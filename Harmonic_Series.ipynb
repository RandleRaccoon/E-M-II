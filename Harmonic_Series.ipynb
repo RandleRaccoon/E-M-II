{
  "nbformat": 4,
  "nbformat_minor": 0,
  "metadata": {
    "colab": {
      "provenance": [],
      "authorship_tag": "ABX9TyNETHvaGmOqDLt09ulJgbgk",
      "include_colab_link": true
    },
    "kernelspec": {
      "name": "python3",
      "display_name": "Python 3"
    },
    "language_info": {
      "name": "python"
    }
  },
  "cells": [
    {
      "cell_type": "markdown",
      "metadata": {
        "id": "view-in-github",
        "colab_type": "text"
      },
      "source": [
        "<a href=\"https://colab.research.google.com/github/RandleRaccoon/E-M-II/blob/main/Harmonic_Series.ipynb\" target=\"_parent\"><img src=\"https://colab.research.google.com/assets/colab-badge.svg\" alt=\"Open In Colab\"/></a>"
      ]
    },
    {
      "cell_type": "code",
      "execution_count": 6,
      "metadata": {
        "colab": {
          "base_uri": "https://localhost:8080/"
        },
        "id": "rZITkZazfdZ1",
        "outputId": "ace674c0-456a-437c-b436-84ef59178e11"
      },
      "outputs": [
        {
          "output_type": "stream",
          "name": "stdout",
          "text": [
            "1.000000001e-09\n"
          ]
        }
      ],
      "source": [
        "# a) Harmonic Series\n",
        "for i in range(1, 10**3):\n",
        "  s = 1/i\n",
        "\n",
        "print(s)\n",
        "\n",
        "for i in range(1, 10**6):\n",
        "  s = 1/i\n",
        "\n",
        "print(s)\n",
        "\n",
        "for i in range(1, 10**9):\n",
        "  s = 1/i\n",
        "\n",
        "print(s)\n",
        "\n",
        "#B)Alternating Harmonic Series\n",
        "for i in range(1, 10**3):\n",
        "  s = (-1)**(i+1)/i\n",
        "\n",
        "print(s)\n",
        "\n",
        "for i in range(1, 10**6):\n",
        "  s = (-1)**(i+1)/i\n",
        "\n",
        "print(s)\n",
        "\n",
        "for i in range(1, 10**9):\n",
        "  s = (-1)**(i+1)/i\n",
        "\n",
        "print(s)"
      ]
    }
  ]
}