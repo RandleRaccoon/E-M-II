{
  "nbformat": 4,
  "nbformat_minor": 0,
  "metadata": {
    "colab": {
      "provenance": [],
      "toc_visible": true,
      "authorship_tag": "ABX9TyMchdxi0VC5lLRkkzjUmY8h",
      "include_colab_link": true
    },
    "kernelspec": {
      "name": "python3",
      "display_name": "Python 3"
    },
    "language_info": {
      "name": "python"
    }
  },
  "cells": [
    {
      "cell_type": "markdown",
      "metadata": {
        "id": "view-in-github",
        "colab_type": "text"
      },
      "source": [
        "<a href=\"https://colab.research.google.com/github/RandleRaccoon/E-M-II/blob/main/E%26MII%20copy.ipynb\" target=\"_parent\"><img src=\"https://colab.research.google.com/assets/colab-badge.svg\" alt=\"Open In Colab\"/></a>"
      ]
    },
    {
      "cell_type": "code",
      "source": [
        "import numpy as np"
      ],
      "metadata": {
        "id": "B0kLJlzWuIqf"
      },
      "execution_count": 1,
      "outputs": []
    },
    {
      "cell_type": "code",
      "source": [
        "pi= np.pi\n",
        "sig_cu = 6e7\n",
        "mu = pi*4e-7\n",
        "sig_si = 2.3e1\n",
        "ep_r=11.9\n",
        "ep0 = 8.85e-12\n",
        "lam = 400e-9\n",
        "omega = 2*pi*2.99e8/(400e-9)\n",
        "\n",
        "#From eq 9.126\n",
        "kappa_si = omega*np.sqrt(ep_r*ep0*mu/2)*(np.sqrt(1+(sig_si/(ep_r*ep0*omega))**2)-1)**(0.5)\n",
        "k_si = omega*np.sqrt(ep_r*ep0*mu/2)*(np.sqrt(1+(sig_si/(ep_r*ep0*omega))**2)+1)**(0.5)\n",
        "\n",
        "kappa_cu = omega*np.sqrt(ep0*mu/2)*(np.sqrt(1+(sig_cu/(ep0*omega))**2)-1)**(0.5)\n",
        "k_cu = omega*np.sqrt(ep0*mu/2)*(np.sqrt(1+(sig_cu/(ep0*omega))**2)+1)**(0.5)"
      ],
      "metadata": {
        "id": "pVwK26cmuPvX"
      },
      "execution_count": 27,
      "outputs": []
    },
    {
      "cell_type": "code",
      "source": [
        "#Part c\n",
        "d_si = 1/kappa_si\n",
        "print(d_si)"
      ],
      "metadata": {
        "id": "46P7PSsDvlME",
        "outputId": "f19b8c70-49ac-440b-e8fc-123660515304",
        "colab": {
          "base_uri": "https://localhost:8080/",
          "height": 0
        }
      },
      "execution_count": 28,
      "outputs": [
        {
          "output_type": "stream",
          "name": "stdout",
          "text": [
            "0.0007960536870253572\n"
          ]
        }
      ]
    },
    {
      "cell_type": "code",
      "source": [
        "#Part d\n",
        "d_cu = 1/kappa_cu\n",
        "print(d_cu)"
      ],
      "metadata": {
        "id": "9pu4Gt039G9H",
        "outputId": "62e54fc9-701f-460f-9f04-2c4768925c78",
        "colab": {
          "base_uri": "https://localhost:8080/",
          "height": 0
        }
      },
      "execution_count": 31,
      "outputs": [
        {
          "output_type": "stream",
          "name": "stdout",
          "text": [
            "2.377329278059877e-09\n"
          ]
        }
      ]
    },
    {
      "cell_type": "code",
      "source": [
        "#Part e\n",
        "print(omega/k_si)"
      ],
      "metadata": {
        "id": "BjQOkPYC_qQM",
        "outputId": "d6b51020-3e03-4556-9daf-1118436a8fd8",
        "colab": {
          "base_uri": "https://localhost:8080/",
          "height": 0
        }
      },
      "execution_count": 32,
      "outputs": [
        {
          "output_type": "stream",
          "name": "stdout",
          "text": [
            "86926051.3000517\n"
          ]
        }
      ]
    },
    {
      "cell_type": "code",
      "source": [
        "#Part f\n",
        "print(omega/k_cu)"
      ],
      "metadata": {
        "id": "JRbVszgnAkjB",
        "outputId": "dabb7f50-8d4d-4d94-9cc5-12a990377a87",
        "colab": {
          "base_uri": "https://localhost:8080/",
          "height": 0
        }
      },
      "execution_count": 33,
      "outputs": [
        {
          "output_type": "stream",
          "name": "stdout",
          "text": [
            "11157824.914475784\n"
          ]
        }
      ]
    },
    {
      "cell_type": "code",
      "source": [
        "#Part g\n",
        "phi_si = np.arctan(kappa_si/k_si)\n",
        "print(phi_si)"
      ],
      "metadata": {
        "id": "yj0hNeT4Bax-",
        "outputId": "19a9238d-e401-4070-a332-c948e69d1da6",
        "colab": {
          "base_uri": "https://localhost:8080/",
          "height": 0
        }
      },
      "execution_count": 34,
      "outputs": [
        {
          "output_type": "stream",
          "name": "stdout",
          "text": [
            "2.3249655824668383e-05\n"
          ]
        }
      ]
    },
    {
      "cell_type": "code",
      "source": [
        "#Part h\n",
        "phi_cu = np.arctan(kappa_cu/k_cu)\n",
        "print(phi_cu)"
      ],
      "metadata": {
        "id": "x9xWTqgBCNeb",
        "outputId": "5d450e2f-2ea1-4388-d003-4badad77575d",
        "colab": {
          "base_uri": "https://localhost:8080/",
          "height": 0
        }
      },
      "execution_count": 35,
      "outputs": [
        {
          "output_type": "stream",
          "name": "stdout",
          "text": [
            "0.7850517832278472\n"
          ]
        }
      ]
    }
  ]
}